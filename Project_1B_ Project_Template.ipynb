{
 "cells": [
  {
   "cell_type": "markdown",
   "metadata": {
    "editable": true
   },
   "source": [
    "# Part I. ETL Pipeline for Pre-Processing the Files"
   ]
  },
  {
   "cell_type": "markdown",
   "metadata": {
    "editable": true
   },
   "source": [
    "## PLEASE RUN THE FOLLOWING CODE FOR PRE-PROCESSING THE FILES"
   ]
  },
  {
   "cell_type": "markdown",
   "metadata": {
    "editable": true
   },
   "source": [
    "#### Import Python packages "
   ]
  },
  {
   "cell_type": "code",
   "execution_count": 29,
   "metadata": {
    "editable": true
   },
   "outputs": [],
   "source": [
    "# Import Python packages \n",
    "import pandas as pd\n",
    "import cassandra\n",
    "import re\n",
    "import os\n",
    "import glob\n",
    "import numpy as np\n",
    "import json\n",
    "import csv"
   ]
  },
  {
   "cell_type": "markdown",
   "metadata": {
    "editable": true
   },
   "source": [
    "#### Creating list of filepaths to process original event csv data files"
   ]
  },
  {
   "cell_type": "code",
   "execution_count": 30,
   "metadata": {
    "editable": true
   },
   "outputs": [
    {
     "name": "stdout",
     "output_type": "stream",
     "text": [
      "/home/workspace\n"
     ]
    }
   ],
   "source": [
    "# checking your current working directory\n",
    "print(os.getcwd())\n",
    "\n",
    "# Get your current folder and subfolder event data\n",
    "filepath = os.getcwd() + '/event_data'\n",
    "\n",
    "# Create a for loop to create a list of files and collect each filepath\n",
    "for root, dirs, files in os.walk(filepath):\n",
    "    \n",
    "# join the file path and roots with the subdirectories using glob\n",
    "    file_path_list = glob.glob(os.path.join(root,'*'))\n",
    "    #print(file_path_list)"
   ]
  },
  {
   "cell_type": "markdown",
   "metadata": {
    "editable": true
   },
   "source": [
    "#### Processing the files to create the data file csv that will be used for Apache Casssandra tables"
   ]
  },
  {
   "cell_type": "code",
   "execution_count": 31,
   "metadata": {
    "editable": true
   },
   "outputs": [],
   "source": [
    "# initiating an empty list of rows that will be generated from each file\n",
    "full_data_rows_list = [] \n",
    "    \n",
    "# for every filepath in the file path list \n",
    "for f in file_path_list:\n",
    "\n",
    "# reading csv file \n",
    "    with open(f, 'r', encoding = 'utf8', newline='') as csvfile: \n",
    "        # creating a csv reader object \n",
    "        csvreader = csv.reader(csvfile) \n",
    "        next(csvreader)\n",
    "        \n",
    " # extracting each data row one by one and append it        \n",
    "        for line in csvreader:\n",
    "            #print(line)\n",
    "            full_data_rows_list.append(line) \n",
    "            \n",
    "# uncomment the code below if you would like to get total number of rows \n",
    "#print(len(full_data_rows_list))\n",
    "# uncomment the code below if you would like to check to see what the list of event data rows will look like\n",
    "#print(full_data_rows_list)\n",
    "\n",
    "# creating a smaller event data csv file called event_datafile_full csv that will be used to insert data into the \\\n",
    "# Apache Cassandra tables\n",
    "csv.register_dialect('myDialect', quoting=csv.QUOTE_ALL, skipinitialspace=True)\n",
    "\n",
    "with open('event_datafile_new.csv', 'w', encoding = 'utf8', newline='') as f:\n",
    "    writer = csv.writer(f, dialect='myDialect')\n",
    "    writer.writerow(['artist','firstName','gender','itemInSession','lastName','length',\\\n",
    "                'level','location','sessionId','song','userId'])\n",
    "    for row in full_data_rows_list:\n",
    "        if (row[0] == ''):\n",
    "            continue\n",
    "        writer.writerow((row[0], row[2], row[3], row[4], row[5], row[6], row[7], row[8], row[12], row[13], row[16]))\n"
   ]
  },
  {
   "cell_type": "code",
   "execution_count": 32,
   "metadata": {
    "editable": true
   },
   "outputs": [
    {
     "name": "stdout",
     "output_type": "stream",
     "text": [
      "6821\n"
     ]
    }
   ],
   "source": [
    "# check the number of rows in your csv file\n",
    "with open('event_datafile_new.csv', 'r', encoding = 'utf8') as f:\n",
    "    print(sum(1 for line in f))"
   ]
  },
  {
   "cell_type": "markdown",
   "metadata": {
    "editable": true
   },
   "source": [
    "# Part II. Complete the Apache Cassandra coding portion of your project. \n",
    "\n",
    "## Now you are ready to work with the CSV file titled <font color=red>event_datafile_new.csv</font>, located within the Workspace directory.  The event_datafile_new.csv contains the following columns: \n",
    "- artist \n",
    "- firstName of user\n",
    "- gender of user\n",
    "- item number in session\n",
    "- last name of user\n",
    "- length of the song\n",
    "- level (paid or free song)\n",
    "- location of the user\n",
    "- sessionId\n",
    "- song title\n",
    "- userId\n",
    "\n",
    "The image below is a screenshot of what the denormalized data should appear like in the <font color=red>**event_datafile_new.csv**</font> after the code above is run:<br>\n",
    "\n",
    "<img src=\"images/image_event_datafile_new.jpg\">"
   ]
  },
  {
   "cell_type": "markdown",
   "metadata": {
    "editable": true
   },
   "source": [
    "## Begin writing your Apache Cassandra code in the cells below"
   ]
  },
  {
   "cell_type": "markdown",
   "metadata": {
    "editable": true
   },
   "source": [
    "#### Creating a Cluster"
   ]
  },
  {
   "cell_type": "code",
   "execution_count": 33,
   "metadata": {
    "editable": true
   },
   "outputs": [],
   "source": [
    "# This should make a connection to a Cassandra instance your local machine \n",
    "# (127.0.0.1)\n",
    "\n",
    "from cassandra.cluster import Cluster\n",
    "\n",
    "try:\n",
    "    cluster = Cluster(['127.0.0.1'])\n",
    "    # To establish connection and begin executing queries, need a session\n",
    "    session = cluster.connect()\n",
    "except Exception as e:\n",
    "    print(\"Error: could not connect to the local Cassandra cluster\")\n",
    "    print(e)"
   ]
  },
  {
   "cell_type": "markdown",
   "metadata": {
    "editable": true
   },
   "source": [
    "#### Create Keyspace"
   ]
  },
  {
   "cell_type": "code",
   "execution_count": 34,
   "metadata": {
    "editable": true
   },
   "outputs": [],
   "source": [
    "try:\n",
    "    session.execute(\"\"\"\n",
    "        CREATE KEYSPACE IF NOT EXISTS sparkifydb \n",
    "        WITH REPLICATION = \n",
    "        { 'class' : 'SimpleStrategy', 'replication_factor' : 1 }\n",
    "    \"\"\")\n",
    "\n",
    "except Exception as e:\n",
    "    print(\"Error: coult not create sparkifydb keyspace\")\n",
    "    print(e)"
   ]
  },
  {
   "cell_type": "markdown",
   "metadata": {
    "editable": true
   },
   "source": [
    "#### Set Keyspace"
   ]
  },
  {
   "cell_type": "code",
   "execution_count": 35,
   "metadata": {
    "editable": true
   },
   "outputs": [],
   "source": [
    "try:\n",
    "    session.set_keyspace('sparkifydb')\n",
    "except Exception as e:\n",
    "    print(\"Error: could not connect to sparkifydb keyspace\")\n",
    "    print(e)"
   ]
  },
  {
   "cell_type": "markdown",
   "metadata": {
    "editable": true
   },
   "source": [
    "### Now we need to create tables to run the following queries. Remember, with Apache Cassandra you model the database tables on the queries you want to run."
   ]
  },
  {
   "cell_type": "markdown",
   "metadata": {
    "editable": true
   },
   "source": [
    "## Create queries to ask the following three questions of the data\n",
    "\n",
    "### 1. Give me the artist, song title and song's length in the music app history that was heard during  sessionId = 338, and itemInSession  = 4\n",
    "\n",
    "\n",
    "### 2. Give me only the following: name of artist, song (sorted by itemInSession) and user (first and last name) for userid = 10, sessionid = 182\n",
    "    \n",
    "\n",
    "### 3. Give me every user name (first and last) in my music app history who listened to the song 'All Hands Against His Own'\n",
    "\n",
    "\n"
   ]
  },
  {
   "cell_type": "markdown",
   "metadata": {
    "editable": true
   },
   "source": [
    "## 1. Give me the artist, song title and song's length in the music app history that was heard during  sessionId = 338, and itemInSession  = 4\n",
    "\n",
    "For this query, it is needed that a table store at least artist name, song title, song length, as these are the information needed to be returned by the query, and session id and item in session, since the query will be filtered by these items.\n",
    "\n",
    "Since filtering will be done based on session id and item in session, they need to be part of the partition key\n",
    "\n",
    "The final table has\n",
    "- `session_id` as an integer\n",
    "- `item_in_session` as an integer\n",
    "- `artist` as text, since it's a name\n",
    "- `song_title` as text, since it's also a name\n",
    "- `song_length` as float\n"
   ]
  },
  {
   "cell_type": "markdown",
   "metadata": {
    "editable": true
   },
   "source": [
    "### Defining the create, drop, insert and select queries"
   ]
  },
  {
   "cell_type": "code",
   "execution_count": 36,
   "metadata": {
    "editable": true
   },
   "outputs": [],
   "source": [
    "session_history_table_create = (\"\"\"\n",
    "    CREATE TABLE IF NOT EXISTS session_history(\n",
    "        session_id int,\n",
    "        item_in_session int,\n",
    "        artist text,\n",
    "        song_title text,\n",
    "        song_length float,\n",
    "        PRIMARY KEY(session_id, item_in_session)\n",
    "    )\n",
    "\"\"\")\n",
    "\n",
    "session_history_table_drop = \"DROP TABLE IF EXISTS session_history\"\n",
    "\n",
    "session_history_table_insert = (\"\"\"\n",
    "    INSERT INTO session_history(\n",
    "        session_id,\n",
    "        item_in_session,\n",
    "        artist,\n",
    "        song_title,\n",
    "        song_length\n",
    "    ) VALUES (%s, %s, %s, %s, %s)\n",
    "\"\"\")\n",
    "\n",
    "session_history_table_select = \"SELECT artist, song_title, song_length FROM session_history WHERE session_id = ? AND item_in_session = ?\""
   ]
  },
  {
   "cell_type": "markdown",
   "metadata": {
    "editable": true
   },
   "source": [
    "### Creating session_history table"
   ]
  },
  {
   "cell_type": "code",
   "execution_count": 37,
   "metadata": {
    "editable": true
   },
   "outputs": [],
   "source": [
    "try:\n",
    "    session.execute(session_history_table_create)\n",
    "except Exception as e:\n",
    "    print(\"Error: could not create session_history table\")\n",
    "    print(e)"
   ]
  },
  {
   "cell_type": "markdown",
   "metadata": {
    "editable": true
   },
   "source": [
    "### Adding records to table"
   ]
  },
  {
   "cell_type": "code",
   "execution_count": 38,
   "metadata": {
    "editable": true
   },
   "outputs": [],
   "source": [
    "# We have provided part of the code to set up the CSV file. Please complete the Apache Cassandra code below#\n",
    "file = 'event_datafile_new.csv'\n",
    "\n",
    "with open(file, encoding = 'utf8') as f:\n",
    "    csvreader = csv.reader(f)\n",
    "    next(csvreader) # skip header\n",
    "    for line in csvreader:\n",
    "        session_id = int(line[8])\n",
    "        item_in_session = int(line[3])\n",
    "        artist = line[0]\n",
    "        song_title = line[9]\n",
    "        song_length = float(line[5])\n",
    "        try:\n",
    "            session.execute(session_history_table_insert, (session_id, item_in_session, artist, song_title, song_length))\n",
    "        except Exception as e:\n",
    "            print(\"Error: could not insert into session_history table\")\n",
    "            print(e)"
   ]
  },
  {
   "cell_type": "markdown",
   "metadata": {
    "editable": true
   },
   "source": [
    "### Do a SELECT to verify that the data have been inserted into each table"
   ]
  },
  {
   "cell_type": "code",
   "execution_count": 39,
   "metadata": {
    "editable": true,
    "scrolled": true
   },
   "outputs": [
    {
     "name": "stdout",
     "output_type": "stream",
     "text": [
      "Faithless Music Matters (Mark Knight Dub) 495.30731201171875\n"
     ]
    }
   ],
   "source": [
    "try:\n",
    "    session_history_table_select_stmt = session.prepare(session_history_table_select)\n",
    "    rows = session.execute(session_history_table_select_stmt, [338, 4])\n",
    "except Exception as e:\n",
    "    print(\"Error: could not execute select on session_history table\")\n",
    "    print(e)\n",
    "    \n",
    "for row in rows:\n",
    "    print (row.artist, row.song_title, row.song_length)"
   ]
  },
  {
   "cell_type": "markdown",
   "metadata": {
    "editable": true
   },
   "source": [
    "## 2. Give me only the following: name of artist, song (sorted by itemInSession) and user (first and last name) for userid = 10, sessionid = 182\n",
    "\n",
    "For this query, it is needed that a table store at least artist name, song title and user (first and last name), as these are the information needed to be returned by the query, and user id, session id and item in session, since the query will be filtered or ordered by these items.\n",
    "\n",
    "Since filtering will be done based on user id and session id, they need to be part of the partition key\n",
    "Since ordering will be done based on item in session, it will be a clustering key\n",
    "\n",
    "The final table has\n",
    "- `user_id` as an integer\n",
    "- `session_id` as an integer\n",
    "- `item_in_session` as an integer\n",
    "- `artist` as text, since it's a name\n",
    "- `song_title` as text, since it's also a name\n",
    "- `user` as text. `user` field contain first and last name combined"
   ]
  },
  {
   "cell_type": "markdown",
   "metadata": {
    "editable": true
   },
   "source": [
    "### Defining the create, drop, insert and select queries"
   ]
  },
  {
   "cell_type": "code",
   "execution_count": 40,
   "metadata": {
    "editable": true
   },
   "outputs": [],
   "source": [
    "user_history_table_create = (\"\"\"\n",
    "    CREATE TABLE IF NOT EXISTS user_history(\n",
    "        user_id int,\n",
    "        session_id int,\n",
    "        item_in_session int,\n",
    "        artist text,\n",
    "        song_title text,\n",
    "        user text,\n",
    "        PRIMARY KEY((user_id, session_id), item_in_session)\n",
    "    ) WITH CLUSTERING ORDER BY (item_in_session ASC)\n",
    "\"\"\")\n",
    "\n",
    "user_history_table_drop = \"DROP TABLE IF EXISTS user_history\"\n",
    "\n",
    "user_history_table_insert = (\"\"\"\n",
    "    INSERT INTO user_history(\n",
    "        user_id,\n",
    "        session_id,\n",
    "        item_in_session,\n",
    "        artist,\n",
    "        song_title,\n",
    "        user\n",
    "    ) VALUES (%s, %s, %s, %s, %s, %s)\n",
    "\"\"\")\n",
    "\n",
    "user_history_table_select = \"SELECT artist, song_title, user FROM user_history WHERE user_id = ? AND session_id = ?\"                    "
   ]
  },
  {
   "cell_type": "markdown",
   "metadata": {
    "editable": true
   },
   "source": [
    "### Creating user_history table"
   ]
  },
  {
   "cell_type": "code",
   "execution_count": 41,
   "metadata": {
    "editable": true
   },
   "outputs": [],
   "source": [
    "try:\n",
    "    session.execute(user_history_table_create)\n",
    "except Exception as e:\n",
    "    print(\"Error: could not create user_history table\")\n",
    "    print(e)"
   ]
  },
  {
   "cell_type": "markdown",
   "metadata": {
    "editable": true
   },
   "source": [
    "### Adding records to table"
   ]
  },
  {
   "cell_type": "code",
   "execution_count": 42,
   "metadata": {
    "editable": true
   },
   "outputs": [],
   "source": [
    "# We have provided part of the code to set up the CSV file. Please complete the Apache Cassandra code below#\n",
    "file = 'event_datafile_new.csv'\n",
    "\n",
    "with open(file, encoding = 'utf8') as f:\n",
    "    csvreader = csv.reader(f)\n",
    "    next(csvreader) # skip header\n",
    "    for line in csvreader:\n",
    "        user_id = int(line[10])\n",
    "        session_id = int(line[8])\n",
    "        item_in_session = int(line[3])\n",
    "        artist = line[0]\n",
    "        song_title = line[9]\n",
    "        user = \"{} {}\".format(line[1], line[4])\n",
    "        try:\n",
    "            session.execute(user_history_table_insert, (user_id, session_id, item_in_session, artist, song_title, user))\n",
    "        except Exception as e:\n",
    "            print(\"Error: could not insert into user_history table\")\n",
    "            print(e)"
   ]
  },
  {
   "cell_type": "markdown",
   "metadata": {
    "editable": true
   },
   "source": [
    "### Do a SELECT to verify that the data have been inserted into each table"
   ]
  },
  {
   "cell_type": "code",
   "execution_count": 43,
   "metadata": {
    "editable": true
   },
   "outputs": [
    {
     "name": "stdout",
     "output_type": "stream",
     "text": [
      "Down To The Bone Keep On Keepin' On Sylvie Cruz\n",
      "Three Drives Greece 2000 Sylvie Cruz\n",
      "Sebastien Tellier Kilometer Sylvie Cruz\n",
      "Lonnie Gordon Catch You Baby (Steve Pitron & Max Sanna Radio Edit) Sylvie Cruz\n"
     ]
    }
   ],
   "source": [
    "try:\n",
    "    user_history_table_select_stmt = session.prepare(user_history_table_select)\n",
    "    rows = session.execute(user_history_table_select_stmt, [10, 182])\n",
    "except Exception as e:\n",
    "    print(\"Error: could not execute select on user_history table\")\n",
    "    print(e)\n",
    "    \n",
    "for row in rows:\n",
    "    print (row.artist, row.song_title, row.user)"
   ]
  },
  {
   "cell_type": "markdown",
   "metadata": {
    "editable": true
   },
   "source": [
    "## 3. Give me every user name (first and last) in my music app history who listened to the song 'All Hands Against His Own'\n",
    "\n",
    "For this query, it is needed that a table store at least the user (first and last name), as this information need to be returned by the query, and song_title, since the query will be filtered by this.\n",
    "However, the combination of user name and song is not a good primary key, because there could be people with the same name. We add to the table a user id, because this can be used along with song to uniquely identify songs listened by users.\n",
    "\n",
    "Since filtering will be done based on song_title, it needs to be part of the partition key.\n",
    "The field `user_id` is also part of the partition key for reasons commented above.\n",
    "\n",
    "The final table has\n",
    "- `song_title` as text, since it's a name\n",
    "- `user_id` as an integer\n",
    "- `user` as text. `user` field contain first and last name combined"
   ]
  },
  {
   "cell_type": "markdown",
   "metadata": {
    "editable": true
   },
   "source": [
    "### Defining the create, drop, insert and select queries"
   ]
  },
  {
   "cell_type": "code",
   "execution_count": 44,
   "metadata": {
    "editable": true
   },
   "outputs": [],
   "source": [
    "song_history_table_create = (\"\"\"\n",
    "    CREATE TABLE IF NOT EXISTS song_history(\n",
    "        song_title text,\n",
    "        user_id int,\n",
    "        user text,\n",
    "        PRIMARY KEY(song_title, user_id)\n",
    "    )\n",
    "\"\"\")\n",
    "\n",
    "song_history_table_drop = \"DROP TABLE IF EXISTS song_history\"\n",
    "\n",
    "song_history_table_insert = (\"\"\"\n",
    "    INSERT INTO song_history(\n",
    "        song_title,\n",
    "        user_id,\n",
    "        user\n",
    "    ) VALUES (%s, %s, %s)\n",
    "\"\"\")\n",
    "\n",
    "song_history_table_select = \"SELECT user FROM song_history WHERE song_title = ?\""
   ]
  },
  {
   "cell_type": "markdown",
   "metadata": {
    "editable": true
   },
   "source": [
    "### Creating song_history table"
   ]
  },
  {
   "cell_type": "code",
   "execution_count": 45,
   "metadata": {
    "editable": true
   },
   "outputs": [],
   "source": [
    "try:\n",
    "    session.execute(song_history_table_create)\n",
    "except Exception as e:\n",
    "    print(\"Error: could not create song_history table\")\n",
    "    print(e)"
   ]
  },
  {
   "cell_type": "markdown",
   "metadata": {
    "editable": true
   },
   "source": [
    "### Adding records to table"
   ]
  },
  {
   "cell_type": "code",
   "execution_count": 46,
   "metadata": {
    "editable": true
   },
   "outputs": [],
   "source": [
    "# We have provided part of the code to set up the CSV file. Please complete the Apache Cassandra code below#\n",
    "file = 'event_datafile_new.csv'\n",
    "\n",
    "with open(file, encoding = 'utf8') as f:\n",
    "    csvreader = csv.reader(f)\n",
    "    next(csvreader) # skip header\n",
    "    for line in csvreader:\n",
    "        song_title = line[9]\n",
    "        user_id = int(line[10])\n",
    "        user = \"{} {}\".format(line[1], line[4])\n",
    "        try:\n",
    "            session.execute(song_history_table_insert, (song_title, user_id, user))\n",
    "        except Exception as e:\n",
    "            print(\"Error: could not insert into song_history table\")\n",
    "            print(e)"
   ]
  },
  {
   "cell_type": "markdown",
   "metadata": {
    "editable": true
   },
   "source": [
    "### Do a SELECT to verify that the data have been inserted into each table"
   ]
  },
  {
   "cell_type": "code",
   "execution_count": 47,
   "metadata": {
    "editable": true
   },
   "outputs": [
    {
     "name": "stdout",
     "output_type": "stream",
     "text": [
      "Jacqueline Lynch\n",
      "Tegan Levine\n",
      "Sara Johnson\n"
     ]
    }
   ],
   "source": [
    "try:\n",
    "    song_history_table_select_stmt = session.prepare(song_history_table_select)\n",
    "    rows = session.execute(song_history_table_select_stmt, [\"All Hands Against His Own\"])\n",
    "except Exception as e:\n",
    "    print(\"Error: could not execute select on song_history table\")\n",
    "    print(e)\n",
    "    \n",
    "for row in rows:\n",
    "    print (row.user)"
   ]
  },
  {
   "cell_type": "markdown",
   "metadata": {
    "editable": true
   },
   "source": [
    "### Drop the tables before closing out the sessions"
   ]
  },
  {
   "cell_type": "code",
   "execution_count": 48,
   "metadata": {
    "editable": true
   },
   "outputs": [],
   "source": [
    "queries = [\n",
    "    session_history_table_drop,\n",
    "    user_history_table_drop,\n",
    "    song_history_table_drop\n",
    "]\n",
    "\n",
    "for query in queries:\n",
    "    try:\n",
    "        rows = session.execute(query)\n",
    "    except Exception as e:\n",
    "        print(e)"
   ]
  },
  {
   "cell_type": "markdown",
   "metadata": {
    "editable": true
   },
   "source": [
    "### Close the session and cluster connection¶"
   ]
  },
  {
   "cell_type": "code",
   "execution_count": 49,
   "metadata": {
    "editable": true
   },
   "outputs": [],
   "source": [
    "session.shutdown()\n",
    "cluster.shutdown()"
   ]
  },
  {
   "cell_type": "code",
   "execution_count": null,
   "metadata": {
    "editable": true
   },
   "outputs": [],
   "source": []
  }
 ],
 "metadata": {
  "kernelspec": {
   "display_name": "Python 3",
   "language": "python",
   "name": "python3"
  },
  "language_info": {
   "codemirror_mode": {
    "name": "ipython",
    "version": 3
   },
   "file_extension": ".py",
   "mimetype": "text/x-python",
   "name": "python",
   "nbconvert_exporter": "python",
   "pygments_lexer": "ipython3",
   "version": "3.6.3"
  }
 },
 "nbformat": 4,
 "nbformat_minor": 4
}
